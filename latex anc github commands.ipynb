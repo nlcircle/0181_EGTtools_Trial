{
 "cells": [
  {
   "cell_type": "markdown",
   "id": "e719d213-0830-402a-aa26-e32defd9fd98",
   "metadata": {},
   "source": [
    "# Git manual\n",
    "\n",
    "This is a brief description of the various steps and commands-in-use to work from a Git Hub repository and a local folder, where the code gets regularly synchronised between both.\n",
    "\n",
    "This has the advantage of version control, backing up and the possibility for parallel development with other coders.\n",
    "\n",
    "We will use '<<<' to symbolise a prompt in a terminal, indicating a command to be typed in."
   ]
  },
  {
   "cell_type": "markdown",
   "id": "1607b75b-3a1c-4b1c-a3a0-4388632e98e0",
   "metadata": {},
   "source": [
    "## Initial preparations\n",
    "\n",
    "The starting position is:\n",
    "\n",
    "    * item Local directory (your project folder).\n",
    "\n",
    "    * venv activated (phd_research).\n",
    "\n",
    "    * Local Git initialized (git init).\n",
    "\n",
    "    * JupyterLab running with jupyterlab-git extension.\n",
    "\n"
   ]
  },
  {
   "cell_type": "markdown",
   "id": "287a77ac-aabf-4302-b1fb-387c5087be28",
   "metadata": {},
   "source": [
    "# Check for a remote\n",
    "\n",
    "<<< git remove -v\n",
    "\n",
    "To check if there's already a remote. As we have run '>>> git init', we won't see anything most likely."
   ]
  },
  {
   "cell_type": "markdown",
   "id": "0febf84f-e6b3-446b-acb6-64504d9aca75",
   "metadata": {},
   "source": [
    "# Remote origin\n",
    "\n",
    "Still in the terminal of the local folder, with the proper environment selected, add the remote origin as follows:\n",
    "\n",
    "<<< git remote add origin https://github.com/nlcircle/0181_EGTtools_Trial.git\n",
    "\n"
   ]
  },
  {
   "cell_type": "markdown",
   "id": "1b8df05b-c631-485c-8976-b013bec514bf",
   "metadata": {},
   "source": [
    "# check remote\n",
    "\n",
    "With the remote as origin, we can now repeat the check to see if the connection has been successfull. Therefore:\n",
    "\n",
    "<<< git remote -v\n",
    "\n",
    "which will show the following output if connected successfully (note: for this particular repository and local directory):\n",
    "\n",
    "    nlcircle\thttps://github.com/nlcircle/0181_EGTtools_Trial (fetch)\n",
    "    nlcircle\thttps://github.com/nlcircle/0181_EGTtools_Trial (push)\n",
    "    origin\thttps://github.com/nlcircle/0181_EGTtools_Trial (fetch)\n",
    "    origin\thttps://github.com/nlcircle/0181_EGTtools_Trial (push)"
   ]
  },
  {
   "cell_type": "markdown",
   "id": "c185d265-0abc-49b4-8a50-c084376aceec",
   "metadata": {},
   "source": [
    "# Git Workflow from JupyterLab\n",
    "\n",
    "Once you have added the remote origin, you are ready to use the Git tab in JupyterLab for all version control operations.\n",
    "\n",
    "Here is the exact sequence to commit and push your first local code to GitHub:\n",
    "\n",
    "## Commit initial files\n",
    "\n",
    "Since we started with 'git init', our local files are currently untracked.\n",
    "\n",
    "    * Go to left hand vertical bar and find 'GIT' tab'. \n",
    "    * find own files in 'untracked' section\n",
    "    * drag files from 'untracked' to 'staged' section or use '+' next to file name\n",
    "\n",
    "In the 'commit' box, write a commit message and provide a brief statement on changes. Then hit 'commit' button."
   ]
  },
  {
   "cell_type": "markdown",
   "id": "c701e421-3b02-45b1-b113-e30fb1ed43b4",
   "metadata": {},
   "source": [
    "## Push to Github\n",
    "\n",
    "Upload committed files to the Git Hub repository, as follows:\n",
    "\n",
    "    * GIT tab in Jupyter Lab, select 'push to remote'\n",
    "    * Ensure to have a Personal Access Token available for first push\n",
    "    * If first push: select advanced features and when prompted, provide username and token. \n",
    "    * For next 'pushes', username/PAT will be remembered."
   ]
  },
  {
   "cell_type": "markdown",
   "id": "b0f4b71f-e43e-43dd-9a85-2e3b25ad9f9e",
   "metadata": {},
   "source": [
    "# Workflow summary\n",
    "\n",
    "Use the following as basic workflow to keep code on github but working locally during updates:\n",
    "\n",
    "  ==> in the Jupyter Lab environment:\n",
    "\n",
    "    * Prepare as in 'Initial preparations', this gives a Juptyer Lab environment with GIT enabled.\n",
    "    * Top bar 'GIT': 'Pull from Remote', this updates the local files\n",
    "    * Add new code and save files when done\n",
    "    * Open left bar 'GIT' and find 'changed' files after previous save\n",
    "    * Click '+' next to each file, which moves the file to 'staged'.\n",
    "    * Go down in the left bar, add changes in red box ('Summary') and add additional text in box below\n",
    "    * Hit 'Commit' button in blue, below the Description box\n",
    "    * See pop up window confirming successful commit, 'commit' button turns grey\n",
    "    * Top bar 'GIT': 'Push to remote', check the pop up window for successful push.\n",
    "\n",
    "  ==> in the Github environment:\n",
    "\n",
    "    Here it gets confusing. Pushing files may end up in 'main' or master'\n",
    "    * if 'main': see green button on page 'compare and pull request'.\n",
    "    * Hit 'Compare and Pull request', go done on page and find Pull Request button\n",
    "    * Hit Pull Request, after that 'Merge request' and code is now on Github\n",
    "    * When coming back to this code, obtain via Pull to local folder.\n",
    "\n",
    "    * if 'master', the update is in a parallel fork, which needs to be combined with 'main' again\n",
    "    * Not sure how to do this, although I managed once."
   ]
  },
  {
   "cell_type": "markdown",
   "id": "55a736a2-fe1a-4831-a84a-b4381a651d69",
   "metadata": {},
   "source": [
    "## Keeping Main and Master synchronised\n",
    "\n",
    "Not sure but will find out. More to come."
   ]
  }
 ],
 "metadata": {
  "kernelspec": {
   "display_name": "Python (phd_research)",
   "language": "python",
   "name": "phd_research"
  },
  "language_info": {
   "codemirror_mode": {
    "name": "ipython",
    "version": 3
   },
   "file_extension": ".py",
   "mimetype": "text/x-python",
   "name": "python",
   "nbconvert_exporter": "python",
   "pygments_lexer": "ipython3",
   "version": "3.11.5"
  }
 },
 "nbformat": 4,
 "nbformat_minor": 5
}
