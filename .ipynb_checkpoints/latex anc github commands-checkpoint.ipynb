{
 "cells": [
  {
   "cell_type": "markdown",
   "id": "e719d213-0830-402a-aa26-e32defd9fd98",
   "metadata": {},
   "source": [
    "# Git manual\n",
    "\n",
    "This is a brief description of the various steps and commands-in-use to work from a Git Hub repository and a local folder, where the code gets regularly synchronised between both.\n",
    "\n",
    "This has the advantage of version control, backing up and the possibility for parallel development with other coders.\n",
    "\n",
    "We will use '<<<' to symbolise a prompt in a terminal, indicating a command to be typed in."
   ]
  },
  {
   "cell_type": "markdown",
   "id": "1607b75b-3a1c-4b1c-a3a0-4388632e98e0",
   "metadata": {},
   "source": [
    "## Initial preparations\n",
    "\n",
    "The starting position is:\n",
    "\n",
    "    * item Local directory (your project folder).\n",
    "\n",
    "    * venv activated (phd_research).\n",
    "\n",
    "    * Local Git initialized (git init).\n",
    "\n",
    "    * JupyterLab running with jupyterlab-git extension.\n",
    "\n"
   ]
  },
  {
   "cell_type": "markdown",
   "id": "287a77ac-aabf-4302-b1fb-387c5087be28",
   "metadata": {},
   "source": [
    "# Check for a remote\n",
    "\n",
    "<<< git remove -v\n",
    "\n",
    "To check if there's already a remote. As we have run '>>> git init', we won't see anything most likely."
   ]
  },
  {
   "cell_type": "markdown",
   "id": "0febf84f-e6b3-446b-acb6-64504d9aca75",
   "metadata": {},
   "source": [
    "# Remote origin\n",
    "\n",
    "Still in the terminal of the local folder, with the proper environment selected, add the remote origin as follows:\n",
    "\n",
    "<<< git remote add origin https://github.com/nlcircle/0181_EGTtools_Trial.git\n",
    "\n"
   ]
  },
  {
   "cell_type": "markdown",
   "id": "1b8df05b-c631-485c-8976-b013bec514bf",
   "metadata": {},
   "source": [
    "# check remote\n",
    "\n",
    "With the remote as origin, we can now repeat the check to see if the connection has been successfull. Therefore:\n",
    "\n",
    "<<< git remote -v\n",
    "\n",
    "which will show the following output if connected successfully (note: for this particular repository and local directory):\n",
    "\n",
    "    nlcircle\thttps://github.com/nlcircle/0181_EGTtools_Trial (fetch)\n",
    "    nlcircle\thttps://github.com/nlcircle/0181_EGTtools_Trial (push)\n",
    "    origin\thttps://github.com/nlcircle/0181_EGTtools_Trial (fetch)\n",
    "    origin\thttps://github.com/nlcircle/0181_EGTtools_Trial (push)"
   ]
  },
  {
   "cell_type": "markdown",
   "id": "c185d265-0abc-49b4-8a50-c084376aceec",
   "metadata": {},
   "source": [
    "# Git Workflow from JupyterLab\n",
    "\n",
    "Once you have added the remote origin, you are ready to use the Git tab in JupyterLab for all version control operations.\n",
    "\n",
    "Here is the exact sequence to commit and push your first local code to GitHub:\n",
    "\n",
    "## Commit initial files\n",
    "\n",
    "Since we started with 'git init', our local files are currently untracked."
   ]
  },
  {
   "cell_type": "code",
   "execution_count": null,
   "id": "3513ea23-3889-4d20-8465-a44f347131a5",
   "metadata": {},
   "outputs": [],
   "source": []
  }
 ],
 "metadata": {
  "kernelspec": {
   "display_name": "Python (phd_research)",
   "language": "python",
   "name": "phd_research"
  },
  "language_info": {
   "codemirror_mode": {
    "name": "ipython",
    "version": 3
   },
   "file_extension": ".py",
   "mimetype": "text/x-python",
   "name": "python",
   "nbconvert_exporter": "python",
   "pygments_lexer": "ipython3",
   "version": "3.11.5"
  }
 },
 "nbformat": 4,
 "nbformat_minor": 5
}
