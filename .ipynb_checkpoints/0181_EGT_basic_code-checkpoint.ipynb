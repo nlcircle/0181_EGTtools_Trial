{
 "cells": [
  {
   "cell_type": "markdown",
   "id": "eddd5909-f430-4fa5-a8e8-d67e7ee243f6",
   "metadata": {},
   "source": [
    "# EGT Tools Trials\n",
    "\n",
    "This is a practice notebook to play around with EGTtools before applying this package to the generation of the Clausewitzian EGT paper."
   ]
  },
  {
   "cell_type": "code",
   "execution_count": 1,
   "id": "f8974233-95eb-4111-ba38-b5c4042fa283",
   "metadata": {},
   "outputs": [
    {
     "name": "stdout",
     "output_type": "stream",
     "text": [
      "Hello\n"
     ]
    }
   ],
   "source": [
    "import numpy as np\n",
    "import egttools as EGT\n",
    "\n",
    "print('Hello')"
   ]
  },
  {
   "cell_type": "code",
   "execution_count": 2,
   "id": "f0e36472-d05a-48cf-a429-276711d1b784",
   "metadata": {},
   "outputs": [],
   "source": [
    "import egttools as E"
   ]
  },
  {
   "cell_type": "raw",
   "id": "b339cdc2-20dd-4141-ba4f-618cca8be742",
   "metadata": {},
   "source": [
    "import sys\n",
    "print(sys.executable)"
   ]
  },
  {
   "cell_type": "raw",
   "id": "f772f19a-4170-4232-ae9c-36767a00438c",
   "metadata": {},
   "source": [
    "import sys\n",
    "!{sys.executable} -m pip install egttools"
   ]
  },
  {
   "cell_type": "raw",
   "id": "66628ba9-fea3-4f4d-a8c7-a4028eef0bb3",
   "metadata": {},
   "source": [
    "import os\n",
    "print(os.environ.get('VIRTUAL_ENV', 'Not in a virtual environment'))"
   ]
  },
  {
   "cell_type": "code",
   "execution_count": 3,
   "id": "9f09521c-b8fd-454b-b31a-6144bb80880a",
   "metadata": {},
   "outputs": [
    {
     "data": {
      "text/plain": [
       "'\"0.1.14.2\"'"
      ]
     },
     "execution_count": 3,
     "metadata": {},
     "output_type": "execute_result"
    }
   ],
   "source": [
    "E.__version__"
   ]
  },
  {
   "cell_type": "code",
   "execution_count": null,
   "id": "6225e3b5-5cc9-4db9-bff1-bdfd4c65cb67",
   "metadata": {},
   "outputs": [],
   "source": []
  }
 ],
 "metadata": {
  "kernelspec": {
   "display_name": "Python (phd_research)",
   "language": "python",
   "name": "phd_research"
  },
  "language_info": {
   "codemirror_mode": {
    "name": "ipython",
    "version": 3
   },
   "file_extension": ".py",
   "mimetype": "text/x-python",
   "name": "python",
   "nbconvert_exporter": "python",
   "pygments_lexer": "ipython3",
   "version": "3.11.5"
  }
 },
 "nbformat": 4,
 "nbformat_minor": 5
}
